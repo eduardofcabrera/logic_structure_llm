{
 "cells": [
  {
   "cell_type": "code",
   "execution_count": 11,
   "metadata": {},
   "outputs": [],
   "source": [
    "import json\n",
    "import pandas as pd"
   ]
  },
  {
   "cell_type": "code",
   "execution_count": 2,
   "metadata": {},
   "outputs": [],
   "source": [
    "with open(\"json_out_3.json\") as f:\n",
    "    data_3 = json.load(f)\n",
    "    f.close()"
   ]
  },
  {
   "cell_type": "code",
   "execution_count": 12,
   "metadata": {},
   "outputs": [],
   "source": [
    "data_3_filer = {\n",
    "    key: {\n",
    "        \"only_prompt\": value[\"only_prompt\"][\"goal_achieved\"],\n",
    "        \"chat\": value[\"chat\"][\"goal_achieved\"]\n",
    "    }\n",
    "    for key, value in data_3.items()\n",
    "}"
   ]
  },
  {
   "cell_type": "code",
   "execution_count": 16,
   "metadata": {},
   "outputs": [],
   "source": [
    "df_data_3 = pd.DataFrame(data_3_filer).T"
   ]
  },
  {
   "cell_type": "code",
   "execution_count": 19,
   "metadata": {},
   "outputs": [
    {
     "data": {
      "text/plain": [
       "only_prompt    0.363636\n",
       "chat           0.636364\n",
       "dtype: float64"
      ]
     },
     "execution_count": 19,
     "metadata": {},
     "output_type": "execute_result"
    }
   ],
   "source": [
    "df_data_3.sum() / df_data_3.count()"
   ]
  },
  {
   "cell_type": "code",
   "execution_count": 20,
   "metadata": {},
   "outputs": [],
   "source": [
    "with open(\"json_out_3_1.json\") as f:\n",
    "    data_3_1 = json.load(f)\n",
    "    f.close()"
   ]
  },
  {
   "cell_type": "code",
   "execution_count": 21,
   "metadata": {},
   "outputs": [],
   "source": [
    "data_3_1_filer = {\n",
    "    key: {\n",
    "        \"only_prompt\": value[\"only_prompt\"][\"goal_achieved\"],\n",
    "        \"chat\": value[\"chat\"][\"goal_achieved\"]\n",
    "    }\n",
    "    for key, value in data_3_1.items()\n",
    "}"
   ]
  },
  {
   "cell_type": "code",
   "execution_count": 22,
   "metadata": {},
   "outputs": [],
   "source": [
    "df_data_3_1 = pd.DataFrame(data_3_1_filer).T"
   ]
  },
  {
   "cell_type": "code",
   "execution_count": 23,
   "metadata": {},
   "outputs": [
    {
     "data": {
      "text/plain": [
       "only_prompt    0.272727\n",
       "chat           0.727273\n",
       "dtype: float64"
      ]
     },
     "execution_count": 23,
     "metadata": {},
     "output_type": "execute_result"
    }
   ],
   "source": [
    "df_data_3_1.sum() / df_data_3_1.count()"
   ]
  },
  {
   "cell_type": "code",
   "execution_count": 24,
   "metadata": {},
   "outputs": [],
   "source": [
    "with open(\"json_out.json\") as f:\n",
    "    data = json.load(f)\n",
    "    f.close()\n",
    "    \n",
    "data_filer = {\n",
    "    key: {\n",
    "        \"only_prompt\": value[\"only_prompt\"][\"goal_achieved\"],\n",
    "        \"chat\": value[\"chat\"][\"goal_achieved\"]\n",
    "    }\n",
    "    for key, value in data.items()\n",
    "}"
   ]
  },
  {
   "cell_type": "code",
   "execution_count": 25,
   "metadata": {},
   "outputs": [],
   "source": [
    "df_data = pd.DataFrame(data_filer).T"
   ]
  },
  {
   "cell_type": "code",
   "execution_count": 26,
   "metadata": {},
   "outputs": [
    {
     "data": {
      "text/plain": [
       "only_prompt    0.454545\n",
       "chat           0.545455\n",
       "dtype: float64"
      ]
     },
     "execution_count": 26,
     "metadata": {},
     "output_type": "execute_result"
    }
   ],
   "source": [
    "df_data.sum() / df_data.count()"
   ]
  },
  {
   "cell_type": "code",
   "execution_count": null,
   "metadata": {},
   "outputs": [],
   "source": []
  }
 ],
 "metadata": {
  "kernelspec": {
   "display_name": "env",
   "language": "python",
   "name": "python3"
  },
  "language_info": {
   "codemirror_mode": {
    "name": "ipython",
    "version": 3
   },
   "file_extension": ".py",
   "mimetype": "text/x-python",
   "name": "python",
   "nbconvert_exporter": "python",
   "pygments_lexer": "ipython3",
   "version": "3.8.10"
  }
 },
 "nbformat": 4,
 "nbformat_minor": 2
}
