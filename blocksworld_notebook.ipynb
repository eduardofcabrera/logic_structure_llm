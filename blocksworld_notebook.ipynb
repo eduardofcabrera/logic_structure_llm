{
 "cells": [
  {
   "cell_type": "code",
   "execution_count": 1,
   "metadata": {},
   "outputs": [],
   "source": [
    "from src.blocksworld.blocksworld_with_possible_actions import BlocksworldChatWithPossibleActions\n",
    "import yaml\n",
    "from pathlib import Path\n",
    "\n",
    "from collections import deque\n",
    "import networkx as nx\n",
    "\n",
    "import matplotlib.pyplot as plt\n",
    "\n",
    "import random\n",
    "import copy\n",
    "from networkx.drawing.nx_pydot import graphviz_layout\n",
    "import pydot"
   ]
  },
  {
   "cell_type": "code",
   "execution_count": 2,
   "metadata": {},
   "outputs": [],
   "source": [
    "def hierarchy_pos(G, root=None, width=1., vert_gap = 0.2, vert_loc = 0, xcenter = 0.5):\n",
    "\n",
    "    '''\n",
    "    From Joel's answer at https://stackoverflow.com/a/29597209/2966723.  \n",
    "    Licensed under Creative Commons Attribution-Share Alike \n",
    "    \n",
    "    If the graph is a tree this will return the positions to plot this in a \n",
    "    hierarchical layout.\n",
    "    \n",
    "    G: the graph (must be a tree)\n",
    "    \n",
    "    root: the root node of current branch \n",
    "    - if the tree is directed and this is not given, \n",
    "      the root will be found and used\n",
    "    - if the tree is directed and this is given, then \n",
    "      the positions will be just for the descendants of this node.\n",
    "    - if the tree is undirected and not given, \n",
    "      then a random choice will be used.\n",
    "    \n",
    "    width: horizontal space allocated for this branch - avoids overlap with other branches\n",
    "    \n",
    "    vert_gap: gap between levels of hierarchy\n",
    "    \n",
    "    vert_loc: vertical location of root\n",
    "    \n",
    "    xcenter: horizontal location of root\n",
    "    '''\n",
    "    if not nx.is_tree(G):\n",
    "        raise TypeError('cannot use hierarchy_pos on a graph that is not a tree')\n",
    "\n",
    "    if root is None:\n",
    "        if isinstance(G, nx.DiGraph):\n",
    "            root = next(iter(nx.topological_sort(G)))  #allows back compatibility with nx version 1.11\n",
    "        else:\n",
    "            root = random.choice(list(G.nodes))\n",
    "\n",
    "    def _hierarchy_pos(G, root, width=1., vert_gap = 0.2, vert_loc = 0, xcenter = 0.5, pos = None, parent = None):\n",
    "        '''\n",
    "        see hierarchy_pos docstring for most arguments\n",
    "\n",
    "        pos: a dict saying where all nodes go if they have been assigned\n",
    "        parent: parent of this branch. - only affects it if non-directed\n",
    "\n",
    "        '''\n",
    "    \n",
    "        if pos is None:\n",
    "            pos = {root:(xcenter,vert_loc)}\n",
    "        else:\n",
    "            pos[root] = (xcenter, vert_loc)\n",
    "        children = list(G.neighbors(root))\n",
    "        if not isinstance(G, nx.DiGraph) and parent is not None:\n",
    "            children.remove(parent)  \n",
    "        if len(children)!=0:\n",
    "            dx = width/len(children) \n",
    "            nextx = xcenter - width/2 - dx/2\n",
    "            for child in children:\n",
    "                nextx += dx\n",
    "                pos = _hierarchy_pos(G,child, width = dx, vert_gap = vert_gap, \n",
    "                                    vert_loc = vert_loc-vert_gap, xcenter=nextx,\n",
    "                                    pos=pos, parent = root)\n",
    "        return pos\n",
    "\n",
    "            \n",
    "    return _hierarchy_pos(G, root, width, vert_gap, vert_loc, xcenter)"
   ]
  },
  {
   "cell_type": "code",
   "execution_count": 52,
   "metadata": {},
   "outputs": [],
   "source": [
    "run_config = yaml.safe_load(open(\"configs/run.yaml\"))\n",
    "config = yaml.safe_load(open(\"configs/blocksworld_chat_with_possible_actions.yaml\"))\n",
    "\n",
    "config = {**config, **run_config}\n",
    "\n",
    "dataset_folder = Path(config[\"dataset_folder\"])\n",
    "instance = dataset_folder / f\"instance_{38}\"\n",
    "\n",
    "few_shot = instance / \"few_shot.txt\"\n",
    "ground_truth_plan = instance / \"ground_truth_plan.txt\"\n",
    "ground_truth_plan = open(ground_truth_plan, \"r\").read()\n",
    "pddl_file = instance / \"pddl.pddl\"\n",
    "config[\"few_shot\"] = few_shot\n",
    "config[\"ground_truth_plan\"] = ground_truth_plan\n",
    "config[\"pddl_file\"] = pddl_file\n",
    "\n",
    "\n",
    "engine = BlocksworldChatWithPossibleActions(model=None, config=config)"
   ]
  },
  {
   "cell_type": "code",
   "execution_count": 53,
   "metadata": {},
   "outputs": [],
   "source": [
    "G = nx.Graph()"
   ]
  },
  {
   "cell_type": "code",
   "execution_count": 54,
   "metadata": {},
   "outputs": [],
   "source": [
    "def get_first_letter(string: str):\n",
    "    return string[0]\n",
    "\n",
    "def state_to_string(state: list):\n",
    "    string = \"\"\n",
    "    predicates_strings = []\n",
    "    for predicate in state:\n",
    "        predicate_string = str(predicate)[1:].split(\" \")\n",
    "        predicate_string = \"\".join(map(get_first_letter, predicate_string))\n",
    "        predicates_strings.append(predicate_string)\n",
    "    predicates_strings.sort()\n",
    "    return \"_\".join(predicates_strings)"
   ]
  },
  {
   "cell_type": "code",
   "execution_count": 55,
   "metadata": {},
   "outputs": [
    {
     "data": {
      "text/plain": [
       "[Predicate(handempty, ),\n",
       " Predicate(ontable, c),\n",
       " Predicate(clear, c),\n",
       " Predicate(clear, b),\n",
       " Predicate(on, b, a),\n",
       " Predicate(ontable, a)]"
      ]
     },
     "execution_count": 55,
     "metadata": {},
     "output_type": "execute_result"
    }
   ],
   "source": [
    "engine.problem_state.current_state_predicate_list"
   ]
  },
  {
   "cell_type": "code",
   "execution_count": 56,
   "metadata": {},
   "outputs": [
    {
     "data": {
      "text/plain": [
       "'cb_cc_h_oa_oba_oc'"
      ]
     },
     "execution_count": 56,
     "metadata": {},
     "output_type": "execute_result"
    }
   ],
   "source": [
    "state_to_string(engine.problem_state.current_state_predicate_list)"
   ]
  },
  {
   "cell_type": "code",
   "execution_count": 57,
   "metadata": {},
   "outputs": [],
   "source": [
    "class State_Hashtable:\n",
    "    def __init__(self):\n",
    "        self.table = {}\n",
    "        self.length = 0\n",
    "\n",
    "    def add(self, state, parent_state, depth):\n",
    "        state_string = state_to_string(state.problem_state.current_state_predicate_list)\n",
    "        if not self.table.get(state_string, None):\n",
    "            self.table[state_string] = (self.length, state, parent_state, depth)\n",
    "            self.length += 1\n",
    "\n",
    "    def get(self, state):\n",
    "        state_string = state_to_string(state.problem_state.current_state_predicate_list)\n",
    "        if state_string in self.table:\n",
    "            return self.table[state_string]\n",
    "        return None\n",
    "    \n",
    "    def is_in(self, state):\n",
    "        state_string = state_to_string(state.problem_state.current_state_predicate_list)\n",
    "        \n",
    "        return self.table.get(state_string, None) != None\n",
    "\n",
    "    def __len__(self):\n",
    "        return len(self.table)\n",
    "    \n",
    "    def __str__(self):\n",
    "        return str(self.table)"
   ]
  },
  {
   "cell_type": "code",
   "execution_count": 58,
   "metadata": {},
   "outputs": [],
   "source": [
    "def BFS(engine, depth=-1):\n",
    "    G = nx.DiGraph()\n",
    "    q = deque()\n",
    "    q.append(engine)\n",
    "    hash_table = State_Hashtable()\n",
    "    hash_table.add(engine, None, 0)\n",
    "    G.add_node(hash_table.get(engine)[0], engine=engine)\n",
    "    while len(q) != 0:\n",
    "        current_engine = q.popleft()\n",
    "        if depth != -1 and hash_table.get(current_engine)[3] >= depth:\n",
    "            return None, hash_table, G\n",
    "        if current_engine.problem_state.goal_reached():\n",
    "            return current_engine, hash_table, G\n",
    "        possible_actions = current_engine.problem_state.get_all_possible_actions()\n",
    "        for possible_action in possible_actions:\n",
    "            new_engine = copy.deepcopy(current_engine)\n",
    "            new_engine.problem_state.take_action(*possible_action)\n",
    "            #G.add_node(hash_table.get(new_engine)[0], engine=new_engine)\n",
    "            #G.add_edge(hash_table.get(current_engine)[0], hash_table.get(new_engine)[0], action=current_engine.action_to_text(possible_action))\n",
    "            if not hash_table.is_in(new_engine):\n",
    "                hash_table.add(new_engine, current_engine, hash_table.get(current_engine)[3] + 1)\n",
    "                q.append(new_engine)\n",
    "                G.add_node(hash_table.get(new_engine)[0], engine=new_engine)\n",
    "                G.add_edge(hash_table.get(current_engine)[0], hash_table.get(new_engine)[0], action=current_engine.action_to_text(possible_action))\n",
    "            if new_engine.problem_state.goal_reached():\n",
    "                return new_engine, hash_table, G\n",
    "            \n",
    "    return None, hash_table, G"
   ]
  },
  {
   "cell_type": "code",
   "execution_count": 59,
   "metadata": {},
   "outputs": [],
   "source": [
    "goal_state, hash_table, G = BFS(engine)\n",
    "G_undirect = G.to_undirected()\n",
    "pos = pos = hierarchy_pos(G_undirect, 0)"
   ]
  },
  {
   "cell_type": "code",
   "execution_count": 60,
   "metadata": {},
   "outputs": [
    {
     "data": {
      "text/plain": [
       "'My goal is to have the orange block on top of the red block.\\n'"
      ]
     },
     "execution_count": 60,
     "metadata": {},
     "output_type": "execute_result"
    }
   ],
   "source": [
    "engine.goal_to_text()"
   ]
  },
  {
   "cell_type": "code",
   "execution_count": 61,
   "metadata": {},
   "outputs": [
    {
     "data": {
      "text/plain": [
       "(10,\n",
       " <src.blocksworld.blocksworld_with_possible_actions.BlocksworldChatWithPossibleActions at 0x7fb92d68c220>,\n",
       " <src.blocksworld.blocksworld_with_possible_actions.BlocksworldChatWithPossibleActions at 0x7fb92df9e130>,\n",
       " 4)"
      ]
     },
     "execution_count": 61,
     "metadata": {},
     "output_type": "execute_result"
    }
   ],
   "source": [
    "hash_table.get(goal_state)"
   ]
  },
  {
   "cell_type": "code",
   "execution_count": 62,
   "metadata": {},
   "outputs": [],
   "source": [
    "def get_path_to_goal(hash_table, G, goal_state): \n",
    "    state_sequence = []\n",
    "    actions_sequence = []\n",
    "\n",
    "    state_id, current_state, parent_state, _ = hash_table.get(goal_state)\n",
    "    state_sequence.append(current_state)\n",
    "    while parent_state != None:\n",
    "        child_state_id = state_id\n",
    "        state_id, current_state, parent_state, _ = hash_table.get(parent_state)\n",
    "        action = G.get_edge_data(state_id, child_state_id)[\"action\"]\n",
    "        actions_sequence.append(action)\n",
    "        state_sequence.append(current_state)\n",
    "        current_state = parent_state\n",
    "        \n",
    "    return state_sequence[::-1], actions_sequence[::-1]"
   ]
  },
  {
   "cell_type": "code",
   "execution_count": 63,
   "metadata": {},
   "outputs": [],
   "source": [
    "state_sequence, actions_sequence = get_path_to_goal(hash_table, G, goal_state)"
   ]
  },
  {
   "cell_type": "code",
   "execution_count": 70,
   "metadata": {},
   "outputs": [
    {
     "data": {
      "text/plain": [
       "'As current conditions I have that the blue block is clear, the blue block is on top of the red block, the hand is empty, the orange block is clear, the orange block is on the table, the red block is on the table.\\n'"
      ]
     },
     "execution_count": 70,
     "metadata": {},
     "output_type": "execute_result"
    }
   ],
   "source": [
    "engine.current_state_to_text()"
   ]
  },
  {
   "cell_type": "code",
   "execution_count": 64,
   "metadata": {},
   "outputs": [
    {
     "data": {
      "text/plain": [
       "['unstack the blue block from on top of the red block',\n",
       " 'put down the blue block',\n",
       " 'pick up the orange block',\n",
       " 'stack the orange block on top of the red block']"
      ]
     },
     "execution_count": 64,
     "metadata": {},
     "output_type": "execute_result"
    }
   ],
   "source": [
    "actions_sequence"
   ]
  },
  {
   "cell_type": "code",
   "execution_count": 65,
   "metadata": {},
   "outputs": [
    {
     "data": {
      "text/plain": [
       "'ca_cb_h_oa_obc_oc'"
      ]
     },
     "execution_count": 65,
     "metadata": {},
     "output_type": "execute_result"
    }
   ],
   "source": [
    "state_to_string(G.nodes[4][\"engine\"].problem_state.current_state_predicate_list)"
   ]
  },
  {
   "cell_type": "code",
   "execution_count": 66,
   "metadata": {},
   "outputs": [
    {
     "data": {
      "text/plain": [
       "(0,\n",
       " <src.blocksworld.blocksworld_with_possible_actions.BlocksworldChatWithPossibleActions at 0x7fb92b224340>,\n",
       " None,\n",
       " 0)"
      ]
     },
     "execution_count": 66,
     "metadata": {},
     "output_type": "execute_result"
    }
   ],
   "source": [
    "hash_table.get(G.nodes[0][\"engine\"])"
   ]
  },
  {
   "cell_type": "code",
   "execution_count": 67,
   "metadata": {},
   "outputs": [],
   "source": [
    "edge_labels = {(edge[0], edge[1]): edge[2][\"action\"] for edge in list(G.edges(data=True))}"
   ]
  },
  {
   "cell_type": "code",
   "execution_count": 68,
   "metadata": {},
   "outputs": [
    {
     "data": {
      "text/plain": [
       "{(0, 1): 'unstack the blue block from on top of the red block',\n",
       " (0, 2): 'pick up the orange block',\n",
       " (1, 3): 'put down the blue block',\n",
       " (1, 4): 'stack the blue block on top of the orange block',\n",
       " (2, 5): 'stack the orange block on top of the blue block',\n",
       " (3, 6): 'pick up the orange block',\n",
       " (3, 7): 'pick up the red block',\n",
       " (4, 8): 'pick up the red block',\n",
       " (6, 9): 'stack the orange block on top of the blue block',\n",
       " (6, 10): 'stack the orange block on top of the red block'}"
      ]
     },
     "execution_count": 68,
     "metadata": {},
     "output_type": "execute_result"
    }
   ],
   "source": [
    "edge_labels"
   ]
  },
  {
   "cell_type": "code",
   "execution_count": 69,
   "metadata": {},
   "outputs": [
    {
     "data": {
      "image/png": "[encoded data removed]",
      "text/plain": [
       "<Figure size 1000x1000 with 1 Axes>"
      ]
     },
     "metadata": {},
     "output_type": "display_data"
    }
   ],
   "source": [
    "fig = plt.figure(figsize=(10, 10))\n",
    "\n",
    "nx.draw(G, with_labels=True, font_weight='bold', pos=pos)\n",
    "\"\"\"nx.draw_networkx_edge_labels(\n",
    "    G, pos,\n",
    "    edge_labels=edge_labels,\n",
    "    font_color='red',\n",
    "    font_size=6,\n",
    "    label_pos=0.3,\n",
    ");\"\"\";"
   ]
  },
  {
   "cell_type": "code",
   "execution_count": 201,
   "metadata": {},
   "outputs": [
    {
     "data": {
      "text/plain": [
       "OutEdgeDataView([(2, 0), (2, 5)])"
      ]
     },
     "execution_count": 201,
     "metadata": {},
     "output_type": "execute_result"
    }
   ],
   "source": [
    "G.edges(2)"
   ]
  },
  {
   "cell_type": "code",
   "execution_count": 196,
   "metadata": {},
   "outputs": [
    {
     "data": {
      "text/plain": [
       "{0, 1, 2}"
      ]
     },
     "execution_count": 196,
     "metadata": {},
     "output_type": "execute_result"
    }
   ],
   "source": [
    "nx.ancestors(G, hash_table.get(goal_state)[0])"
   ]
  },
  {
   "cell_type": "code",
   "execution_count": 65,
   "metadata": {},
   "outputs": [
    {
     "data": {
      "text/plain": [
       "{'action': 'unstack the red block from on top of the yellow block'}"
      ]
     },
     "execution_count": 65,
     "metadata": {},
     "output_type": "execute_result"
    }
   ],
   "source": [
    "G.get_edge_data(6, 14)"
   ]
  },
  {
   "cell_type": "code",
   "execution_count": null,
   "metadata": {},
   "outputs": [],
   "source": [
    "engine."
   ]
  },
  {
   "cell_type": "code",
   "execution_count": null,
   "metadata": {},
   "outputs": [],
   "source": [
    "engine.current_state_to_text()"
   ]
  },
  {
   "cell_type": "code",
   "execution_count": 23,
   "metadata": {},
   "outputs": [
    {
     "data": {
      "text/plain": [
       "'As current conditions I have that the blue block is clear, the blue block is on the table, the hand is empty, the orange block is on the table, the red block is clear, the red block is on top of the yellow block, the yellow block is on top of the orange block.\\n'"
      ]
     },
     "execution_count": 23,
     "metadata": {},
     "output_type": "execute_result"
    }
   ],
   "source": [
    "engine.current_state_to_text()"
   ]
  }
 ],
 "metadata": {
  "kernelspec": {
   "display_name": "Python 3",
   "language": "python",
   "name": "python3"
  },
  "language_info": {
   "codemirror_mode": {
    "name": "ipython",
    "version": 3
   },
   "file_extension": ".py",
   "mimetype": "text/x-python",
   "name": "python",
   "nbconvert_exporter": "python",
   "pygments_lexer": "ipython3",
   "version": "3.8.18"
  }
 },
 "nbformat": 4,
 "nbformat_minor": 2
}
